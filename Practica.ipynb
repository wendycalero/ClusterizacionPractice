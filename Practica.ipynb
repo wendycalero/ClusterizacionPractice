{
  "nbformat": 4,
  "nbformat_minor": 0,
  "metadata": {
    "colab": {
      "provenance": []
    },
    "kernelspec": {
      "name": "python3",
      "display_name": "Python 3"
    },
    "language_info": {
      "name": "python"
    }
  },
  "cells": [
    {
      "cell_type": "code",
      "execution_count": 2,
      "metadata": {
        "id": "yXWXDr2z4RDL"
      },
      "outputs": [],
      "source": [
        "import pandas as pd\n",
        "from sklearn.cluster import KMeans\n"
      ]
    },
    {
      "cell_type": "code",
      "source": [
        "# Cargar el archivo de datos original\n",
        "data = pd.read_csv('data_ecu.txt', sep='\\t', header=None, names=['Longitude', 'Latitude'], on_bad_lines='skip')\n",
        "#data = pd.read_csv(file_path, sep='\\t', header=None, names=['Longitude', 'Latitude'], on_bad_lines=)\n"
      ],
      "metadata": {
        "id": "RU-tPVgT4W1a"
      },
      "execution_count": 5,
      "outputs": []
    },
    {
      "cell_type": "code",
      "source": [
        "# Convertir los valores no numéricos en NaN y reemplazar comas por puntos\n",
        "data['Longitude'] = pd.to_numeric(data['Longitude'].apply(lambda x: str(x).replace(',', '.')), errors='coerce')\n",
        "data['Latitude'] = pd.to_numeric(data['Latitude'].apply(lambda x: str(x).replace(',', '.')), errors='coerce')\n"
      ],
      "metadata": {
        "id": "-K4n-y_y4kVw"
      },
      "execution_count": 6,
      "outputs": []
    },
    {
      "cell_type": "code",
      "source": [
        "# Rellenar valores faltantes con la media de los valores válidos\n",
        "data['Longitude'].fillna(data['Longitude'].mean(), inplace=True)\n",
        "data['Latitude'].fillna(data['Latitude'].mean(), inplace=True)"
      ],
      "metadata": {
        "colab": {
          "base_uri": "https://localhost:8080/"
        },
        "id": "AcpVCe1u4qT5",
        "outputId": "94404479-33e2-48e4-a2f3-8606e38257a9"
      },
      "execution_count": 7,
      "outputs": [
        {
          "output_type": "stream",
          "name": "stderr",
          "text": [
            "<ipython-input-7-e942ebde8919>:2: FutureWarning: A value is trying to be set on a copy of a DataFrame or Series through chained assignment using an inplace method.\n",
            "The behavior will change in pandas 3.0. This inplace method will never work because the intermediate object on which we are setting values always behaves as a copy.\n",
            "\n",
            "For example, when doing 'df[col].method(value, inplace=True)', try using 'df.method({col: value}, inplace=True)' or df[col] = df[col].method(value) instead, to perform the operation inplace on the original object.\n",
            "\n",
            "\n",
            "  data['Longitude'].fillna(data['Longitude'].mean(), inplace=True)\n",
            "<ipython-input-7-e942ebde8919>:3: FutureWarning: A value is trying to be set on a copy of a DataFrame or Series through chained assignment using an inplace method.\n",
            "The behavior will change in pandas 3.0. This inplace method will never work because the intermediate object on which we are setting values always behaves as a copy.\n",
            "\n",
            "For example, when doing 'df[col].method(value, inplace=True)', try using 'df.method({col: value}, inplace=True)' or df[col] = df[col].method(value) instead, to perform the operation inplace on the original object.\n",
            "\n",
            "\n",
            "  data['Latitude'].fillna(data['Latitude'].mean(), inplace=True)\n"
          ]
        }
      ]
    },
    {
      "cell_type": "code",
      "source": [
        "# Aplicar K-means para agrupar las ubicaciones en 3 clusters\n",
        "kmeans = KMeans(n_clusters=3, random_state=0)\n",
        "data['cluster'] = kmeans.fit_predict(data[['Longitude', 'Latitude']])\n"
      ],
      "metadata": {
        "id": "-IUOGFG84tLx"
      },
      "execution_count": 8,
      "outputs": []
    },
    {
      "cell_type": "code",
      "source": [
        "# Generar el archivo de salida con exactamente 305 líneas\n",
        "output_full = data.reset_index()[['index', 'cluster']]\n",
        "output_full.columns = ['location_id', 'cluster_label']"
      ],
      "metadata": {
        "id": "BeqPUyRO4wpF"
      },
      "execution_count": 9,
      "outputs": []
    },
    {
      "cell_type": "code",
      "source": [
        "#Guardar el archivo de salida\n",
        "output_full.to_csv('clusters_full.txt', sep=' ', index=False, header=False)"
      ],
      "metadata": {
        "id": "MNGNSmK04zMZ"
      },
      "execution_count": 10,
      "outputs": []
    },
    {
      "cell_type": "code",
      "source": [
        "from google.colab import drive\n",
        "drive.mount('/content/drive')"
      ],
      "metadata": {
        "colab": {
          "base_uri": "https://localhost:8080/"
        },
        "id": "GvXhsIn449lS",
        "outputId": "d01360fc-d184-4d71-f50c-0e3ccae535c3"
      },
      "execution_count": 11,
      "outputs": [
        {
          "output_type": "stream",
          "name": "stdout",
          "text": [
            "Mounted at /content/drive\n"
          ]
        }
      ]
    },
    {
      "cell_type": "code",
      "source": [],
      "metadata": {
        "id": "zq4KnQp95nf-"
      },
      "execution_count": null,
      "outputs": []
    }
  ]
}